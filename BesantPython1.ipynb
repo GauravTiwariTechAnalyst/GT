{
  "nbformat": 4,
  "nbformat_minor": 0,
  "metadata": {
    "colab": {
      "provenance": [],
      "authorship_tag": "ABX9TyN/RUmV0ZECocObteAglTwn",
      "include_colab_link": true
    },
    "kernelspec": {
      "name": "python3",
      "display_name": "Python 3"
    },
    "language_info": {
      "name": "python"
    }
  },
  "cells": [
    {
      "cell_type": "markdown",
      "metadata": {
        "id": "view-in-github",
        "colab_type": "text"
      },
      "source": [
        "<a href=\"https://colab.research.google.com/github/GauravTiwariTechAnalyst/GT/blob/master/BesantPython1.ipynb\" target=\"_parent\"><img src=\"https://colab.research.google.com/assets/colab-badge.svg\" alt=\"Open In Colab\"/></a>"
      ]
    },
    {
      "cell_type": "code",
      "execution_count": null,
      "metadata": {
        "colab": {
          "base_uri": "https://localhost:8080/"
        },
        "id": "S26EZijg5hhC",
        "outputId": "55c24bbc-f9c5-4c4e-e738-f38ba84fd440"
      },
      "outputs": [
        {
          "output_type": "stream",
          "name": "stdout",
          "text": [
            "enter first number12\n",
            "enter second number2\n",
            "14\n",
            "14\n",
            "14\n",
            "14\n",
            "14\n"
          ]
        }
      ],
      "source": [
        "firstnumber = int(input(\"enter first number\"))\n",
        "secondnumber = int(input(\"enter second number\"))\n",
        "sum = firstnumber+secondnumber\n",
        "for x in range(15,20):\n",
        "    if sum>=20:\n",
        "        print(\"return 20\")\n",
        "    else:\n",
        "       print(sum)\n",
        "\n"
      ]
    },
    {
      "cell_type": "code",
      "source": [
        "#2.Write a Python program to check if a given number is a prime number or not.\n",
        "number = int(input(\"enter number\"))\n",
        "if number>1:\n",
        "  for i in range(2,number):\n",
        "    if (number%i)==0:\n",
        "        print(number,\"is not prime number\")\n",
        "    else:\n",
        "       print(number,\"is a prime number\")\n",
        "else:\n",
        "        print(number,\"is not prime number\")"
      ],
      "metadata": {
        "colab": {
          "base_uri": "https://localhost:8080/"
        },
        "id": "_j2gO_Uf6U6V",
        "outputId": "b1f6a564-cf14-4ed5-a10f-95c99af3e1e4"
      },
      "execution_count": null,
      "outputs": [
        {
          "output_type": "stream",
          "name": "stdout",
          "text": [
            "enter number81\n",
            "81 is a prime number\n",
            "81 is not prime number\n",
            "81 is a prime number\n",
            "81 is a prime number\n",
            "81 is a prime number\n",
            "81 is a prime number\n",
            "81 is a prime number\n",
            "81 is not prime number\n",
            "81 is a prime number\n",
            "81 is a prime number\n",
            "81 is a prime number\n",
            "81 is a prime number\n",
            "81 is a prime number\n",
            "81 is a prime number\n",
            "81 is a prime number\n",
            "81 is a prime number\n",
            "81 is a prime number\n",
            "81 is a prime number\n",
            "81 is a prime number\n",
            "81 is a prime number\n",
            "81 is a prime number\n",
            "81 is a prime number\n",
            "81 is a prime number\n",
            "81 is a prime number\n",
            "81 is a prime number\n",
            "81 is not prime number\n",
            "81 is a prime number\n",
            "81 is a prime number\n",
            "81 is a prime number\n",
            "81 is a prime number\n",
            "81 is a prime number\n",
            "81 is a prime number\n",
            "81 is a prime number\n",
            "81 is a prime number\n",
            "81 is a prime number\n",
            "81 is a prime number\n",
            "81 is a prime number\n",
            "81 is a prime number\n",
            "81 is a prime number\n",
            "81 is a prime number\n",
            "81 is a prime number\n",
            "81 is a prime number\n",
            "81 is a prime number\n",
            "81 is a prime number\n",
            "81 is a prime number\n",
            "81 is a prime number\n",
            "81 is a prime number\n",
            "81 is a prime number\n",
            "81 is a prime number\n",
            "81 is a prime number\n",
            "81 is a prime number\n",
            "81 is a prime number\n",
            "81 is a prime number\n",
            "81 is a prime number\n",
            "81 is a prime number\n",
            "81 is a prime number\n",
            "81 is a prime number\n",
            "81 is a prime number\n",
            "81 is a prime number\n",
            "81 is a prime number\n",
            "81 is a prime number\n",
            "81 is a prime number\n",
            "81 is a prime number\n",
            "81 is a prime number\n",
            "81 is a prime number\n",
            "81 is a prime number\n",
            "81 is a prime number\n",
            "81 is a prime number\n",
            "81 is a prime number\n",
            "81 is a prime number\n",
            "81 is a prime number\n",
            "81 is a prime number\n",
            "81 is a prime number\n",
            "81 is a prime number\n",
            "81 is a prime number\n",
            "81 is a prime number\n",
            "81 is a prime number\n",
            "81 is a prime number\n",
            "81 is a prime number\n"
          ]
        }
      ]
    },
    {
      "cell_type": "code",
      "source": [
        "#3.Write a Python program to print the Fibonacci series up to a given number.\n",
        "number=int(input(\"enter number\"))\n",
        "a=0\n",
        "b=1\n",
        "if number>0:\n",
        "  for i in range(1,number):\n",
        "   c=a+b\n",
        "   a=b\n",
        "   b=c\n",
        "   print(b,\"series is fibonacci\")\n",
        "else:\n",
        "    print(\"series is not fibonacci\")\n"
      ],
      "metadata": {
        "colab": {
          "base_uri": "https://localhost:8080/"
        },
        "id": "hcPYiNiPFU9z",
        "outputId": "6823fefe-c1bf-4bc2-cf84-5b2ff2f0bc6f"
      },
      "execution_count": null,
      "outputs": [
        {
          "output_type": "stream",
          "name": "stdout",
          "text": [
            "enter number12\n",
            "1\n",
            "2\n",
            "3\n",
            "5\n",
            "8\n",
            "13\n",
            "21\n",
            "34\n",
            "55\n",
            "89\n",
            "144\n"
          ]
        }
      ]
    },
    {
      "cell_type": "code",
      "source": [
        "#4.Write a Python program to check if a given string is a palindrome or not.\n",
        "num = input(\"Enter a number\")\n",
        "if num == num[::-1]:\n",
        "    print(\"Yes its a palindrome\")\n",
        "else:\n",
        "    print(\"No, its not a palindrome\")"
      ],
      "metadata": {
        "colab": {
          "base_uri": "https://localhost:8080/"
        },
        "id": "WYDn6yd6JV6g",
        "outputId": "be6c85ce-1915-4db2-9d87-6344b1ab4a0e"
      },
      "execution_count": null,
      "outputs": [
        {
          "output_type": "stream",
          "name": "stdout",
          "text": [
            "Enter a number121\n",
            "Yes its a palindrome\n"
          ]
        }
      ]
    },
    {
      "cell_type": "code",
      "source": [
        "#5.Write a Python program to print the multiplication table of a given number.\n",
        "num=int(input(\"enter no.for multiplication table\"))\n",
        "\n",
        "for i in range(1,num+1 ):\n",
        "  print(num,\"x\",i,\"=\",num*i)\n",
        "\n"
      ],
      "metadata": {
        "colab": {
          "base_uri": "https://localhost:8080/"
        },
        "id": "rp-lP2AMBZgh",
        "outputId": "208660c0-d4f0-49d2-dddf-64e2b28188f4"
      },
      "execution_count": null,
      "outputs": [
        {
          "output_type": "stream",
          "name": "stdout",
          "text": [
            "enter no.for multiplication table10\n",
            "10 x 1 = 10\n",
            "10 x 2 = 20\n",
            "10 x 3 = 30\n",
            "10 x 4 = 40\n",
            "10 x 5 = 50\n",
            "10 x 6 = 60\n",
            "10 x 7 = 70\n",
            "10 x 8 = 80\n",
            "10 x 9 = 90\n",
            "10 x 10 = 100\n"
          ]
        }
      ]
    },
    {
      "cell_type": "code",
      "source": [
        "#6.Write a Python program to check if a given number is an Armstrong number.\n"
      ],
      "metadata": {
        "id": "wjm96zhEPG8H"
      },
      "execution_count": null,
      "outputs": []
    },
    {
      "cell_type": "code",
      "source": [
        "#7.Write a Python program to find the sum of all even numbers between 1 to 100.\n",
        "num=int(input(\"enter number\"))\n",
        "sum=0\n",
        "for i in range(101):\n",
        "  if i%2==0:\n",
        "    sum=sum+i\n",
        "    print(sum)\n",
        "\n",
        "\n",
        "\n",
        "\n",
        "\n"
      ],
      "metadata": {
        "colab": {
          "base_uri": "https://localhost:8080/"
        },
        "id": "sD2Fu0AZWsi3",
        "outputId": "e8e523c5-3846-4ed8-b24f-ad01a789a0a8"
      },
      "execution_count": null,
      "outputs": [
        {
          "output_type": "stream",
          "name": "stdout",
          "text": [
            "enter number10\n",
            "0\n",
            "2\n",
            "4\n",
            "6\n",
            "8\n",
            "10\n",
            "12\n",
            "14\n",
            "16\n",
            "18\n",
            "20\n",
            "22\n",
            "24\n",
            "26\n",
            "28\n",
            "30\n",
            "32\n",
            "34\n",
            "36\n",
            "38\n",
            "40\n",
            "42\n",
            "44\n",
            "46\n",
            "48\n",
            "50\n",
            "52\n",
            "54\n",
            "56\n",
            "58\n",
            "60\n",
            "62\n",
            "64\n",
            "66\n",
            "68\n",
            "70\n",
            "72\n",
            "74\n",
            "76\n",
            "78\n",
            "80\n",
            "82\n",
            "84\n",
            "86\n",
            "88\n",
            "90\n",
            "92\n",
            "94\n",
            "96\n",
            "98\n",
            "100\n"
          ]
        }
      ]
    },
    {
      "cell_type": "code",
      "source": [
        "#8.Write a Python program to find the maximum and minimum values in a given list of numbers.\n",
        "number1=int(input(\"enter number1\"))\n",
        "number2=int(input(\"enter number2\"))\n",
        "number3=int(input(\"enter number3\"))\n",
        "number4=int(input(\"enter number4\"))\n",
        "number5=int(input(\"enter number5\"))\n",
        "print(number1,number2,number3,number4,number5)\n",
        "\n",
        "\n",
        "list=[number1,number2,number3,number4,number5]\n",
        "for i in list:\n",
        "  if max(list)>0:\n",
        "    print(number1,number2,number3,number4,number5,\"is maximum\")\n",
        "else:\n",
        "    print(number1,number2,number3,number4,number5,\"is min\")\n",
        "\n"
      ],
      "metadata": {
        "colab": {
          "base_uri": "https://localhost:8080/"
        },
        "id": "BPmxbH2Yn_6r",
        "outputId": "2bd83f40-6b7e-410b-c536-a8c4a31f6a6d"
      },
      "execution_count": null,
      "outputs": [
        {
          "output_type": "stream",
          "name": "stdout",
          "text": [
            "enter number110\n",
            "enter number220\n",
            "enter number330\n",
            "enter number440\n",
            "enter number550\n",
            "10 20 30 40 50\n",
            "10 20 30 40 50 is maximum\n",
            "10 20 30 40 50 is maximum\n",
            "10 20 30 40 50 is maximum\n",
            "10 20 30 40 50 is maximum\n",
            "10 20 30 40 50 is maximum\n",
            "10 20 30 40 50 is min\n"
          ]
        }
      ]
    }
  ]
}