{
  "nbformat": 4,
  "nbformat_minor": 0,
  "metadata": {
    "colab": {
      "provenance": [],
      "authorship_tag": "ABX9TyOUzre3efKI+nkHt/S/FA2j"
    },
    "kernelspec": {
      "name": "python3",
      "display_name": "Python 3"
    },
    "language_info": {
      "name": "python"
    }
  },
  "cells": [
    {
      "cell_type": "code",
      "execution_count": null,
      "metadata": {
        "colab": {
          "base_uri": "https://localhost:8080/"
        },
        "id": "sK2pM7XHascb",
        "outputId": "b21cc738-4331-4454-833a-6d3fa11496a6"
      },
      "outputs": [
        {
          "output_type": "stream",
          "name": "stdout",
          "text": [
            "140473667664192\n",
            "140473667664192\n"
          ]
        }
      ],
      "source": [
        "class Fan:\n",
        "    def __init__(Self):\n",
        "      Self.name=\"Usha\"\n",
        "      Self.color=\"Brown\"\n",
        "      print(id(Self))\n",
        "\n",
        "f1=Fan()\n",
        "print(id(f1))"
      ]
    },
    {
      "cell_type": "code",
      "source": [
        "a=[]\n",
        "l=[[10,20,30],[30,60,70],[20,10,5]]\n"
      ],
      "metadata": {
        "id": "f1vOVhAWxXY2"
      },
      "execution_count": null,
      "outputs": []
    },
    {
      "cell_type": "code",
      "source": [
        "class fan:\n",
        "  def __init__(self):\n",
        "    self.name=\"usha\"\n",
        "    print(self.name)\n",
        "    def on(self):\n",
        "     print(\"fan is on\")\n",
        "f1=fan()\n",
        "f1.on()"
      ],
      "metadata": {
        "colab": {
          "base_uri": "https://localhost:8080/",
          "height": 217
        },
        "id": "zrGPRGLJx43G",
        "outputId": "e4912035-3473-4d30-e39b-a846b42082f3"
      },
      "execution_count": null,
      "outputs": [
        {
          "output_type": "stream",
          "name": "stdout",
          "text": [
            "usha\n"
          ]
        },
        {
          "output_type": "error",
          "ename": "AttributeError",
          "evalue": "ignored",
          "traceback": [
            "\u001b[0;31m---------------------------------------------------------------------------\u001b[0m",
            "\u001b[0;31mAttributeError\u001b[0m                            Traceback (most recent call last)",
            "\u001b[0;32m<ipython-input-31-3a123f1c35a9>\u001b[0m in \u001b[0;36m<cell line: 8>\u001b[0;34m()\u001b[0m\n\u001b[1;32m      6\u001b[0m      \u001b[0mprint\u001b[0m\u001b[0;34m(\u001b[0m\u001b[0;34m\"fan is on\"\u001b[0m\u001b[0;34m)\u001b[0m\u001b[0;34m\u001b[0m\u001b[0;34m\u001b[0m\u001b[0m\n\u001b[1;32m      7\u001b[0m \u001b[0mf1\u001b[0m\u001b[0;34m=\u001b[0m\u001b[0mfan\u001b[0m\u001b[0;34m(\u001b[0m\u001b[0;34m)\u001b[0m\u001b[0;34m\u001b[0m\u001b[0;34m\u001b[0m\u001b[0m\n\u001b[0;32m----> 8\u001b[0;31m \u001b[0mf1\u001b[0m\u001b[0;34m.\u001b[0m\u001b[0mon\u001b[0m\u001b[0;34m(\u001b[0m\u001b[0;34m)\u001b[0m\u001b[0;34m\u001b[0m\u001b[0;34m\u001b[0m\u001b[0m\n\u001b[0m",
            "\u001b[0;31mAttributeError\u001b[0m: 'fan' object has no attribute 'on'"
          ]
        }
      ]
    },
    {
      "cell_type": "code",
      "source": [
        "class Library:\n",
        "  def __init__(self):\n",
        "    self.book=[\"the mind\",\"wings of fire\"]\n",
        "    print(self.book)\n",
        "    def lending(self.request)\n",
        "    if request in self.book:\n",
        "      print(\"the book is yours\")\n",
        "class User:\n",
        "  def requesting_book(self):\n",
        "    request=input(\"enter name of book\")\n",
        "    return request\n",
        "\n",
        "l1=Library()\n",
        "u1=user()\n",
        "request=u1.requesting_book()\n",
        "l1.lending(request)"
      ],
      "metadata": {
        "colab": {
          "base_uri": "https://localhost:8080/",
          "height": 130
        },
        "id": "umrrwW3HzXv6",
        "outputId": "4ca76371-30e7-46df-afd0-bd7dbef6bfe4"
      },
      "execution_count": null,
      "outputs": [
        {
          "output_type": "error",
          "ename": "SyntaxError",
          "evalue": "ignored",
          "traceback": [
            "\u001b[0;36m  File \u001b[0;32m\"<ipython-input-36-bb710288a72f>\"\u001b[0;36m, line \u001b[0;32m5\u001b[0m\n\u001b[0;31m    def lending(self.request)\u001b[0m\n\u001b[0m                    ^\u001b[0m\n\u001b[0;31mSyntaxError\u001b[0m\u001b[0;31m:\u001b[0m invalid syntax\n"
          ]
        }
      ]
    },
    {
      "cell_type": "code",
      "source": [
        "class Atm:\n",
        "  def __init__(self):\n",
        "    self.name_atm=\"Kotak\"\n",
        "    print(self.name_atm)\n",
        "  def withdraw(self,username,password):\n",
        "      if username==\"Arjun\" and password==\"1234\":\n",
        "        # print(\"balance=500\")\n",
        "        return(\"balance=500\")\n",
        "      else:\n",
        "          print(\"Invalid\")\n",
        "\n",
        "a1=Atm()\n",
        "b1=a1.withdraw(\"Arjun\",\"1234\")\n",
        "print(\"outside carrying answer\",b1)\n"
      ],
      "metadata": {
        "colab": {
          "base_uri": "https://localhost:8080/"
        },
        "id": "Gd22siKt2SYx",
        "outputId": "bbed0bf1-ffa1-45d1-8d34-aec93ade407d"
      },
      "execution_count": null,
      "outputs": [
        {
          "output_type": "stream",
          "name": "stdout",
          "text": [
            "Kotak\n",
            "outside carrying answer balance=500\n"
          ]
        }
      ]
    },
    {
      "cell_type": "code",
      "source": [
        "class Atm:\n",
        "  # def __init__(self):\n",
        "  #   self.name_atm=\"Kotak\"\n",
        "\n",
        "    def check_balance(self,password):\n",
        "      amount=1050\n",
        "      if password==\"1234\":\n",
        "        print(amount)\n",
        "      else:\n",
        "        print(\"invalid\")\n",
        "a1=Atm()\n",
        "a1.check_balance(\"1234\")\n"
      ],
      "metadata": {
        "colab": {
          "base_uri": "https://localhost:8080/"
        },
        "id": "fgsO0c9bJa3p",
        "outputId": "bceac67b-d5ee-4891-9209-06700e844ca2"
      },
      "execution_count": null,
      "outputs": [
        {
          "output_type": "stream",
          "name": "stdout",
          "text": [
            "1050\n"
          ]
        }
      ]
    },
    {
      "cell_type": "code",
      "source": [
        "class bank:\n",
        "  r=10\n",
        "  def loan(self):\n",
        "    p=int(input(\"enter amount\"))\n",
        "    t=int(input(\"enter period\"))\n",
        "    si=(p*bank.r*t)/100\n",
        "    print(si)\n",
        "b1= bank()\n",
        "b1.loan()"
      ],
      "metadata": {
        "colab": {
          "base_uri": "https://localhost:8080/"
        },
        "id": "8L1tkZ00egnr",
        "outputId": "5f0b5e5c-65b4-4610-f7ea-31a815371016"
      },
      "execution_count": null,
      "outputs": [
        {
          "output_type": "stream",
          "name": "stdout",
          "text": [
            "enter amount5000\n",
            "enter period2\n",
            "1000.0\n"
          ]
        }
      ]
    },
    {
      "cell_type": "code",
      "source": [
        "r=10\n",
        "class bank:\n",
        "\n",
        "  def si(self):\n",
        "    p=int(input(\"enter amount\"))\n",
        "    t=int(input(\"enter period\"))\n",
        "    si=(p*t*r)/100\n",
        "    print(si)\n",
        "b1=bank()\n",
        "b1.si()"
      ],
      "metadata": {
        "colab": {
          "base_uri": "https://localhost:8080/"
        },
        "id": "II96q2uNiIgv",
        "outputId": "eb8ecea3-e39f-4556-d749-83cab19367e6"
      },
      "execution_count": null,
      "outputs": [
        {
          "output_type": "stream",
          "name": "stdout",
          "text": [
            "enter amount5000\n",
            "enter period2\n",
            "1000.0\n"
          ]
        }
      ]
    },
    {
      "cell_type": "code",
      "source": [
        " class bank:\n",
        "\n",
        "  def si(self):\n",
        "    global r\n",
        "    r=10\n",
        "    p=int(input(\"enter amount\"))\n",
        "    t=int(input(\"enter period\"))\n",
        "    si=(p*t*r)/100\n",
        "    print(si)\n",
        "b1=bank()\n",
        "b1.si()\n",
        "print(r,\"outside the program\")"
      ],
      "metadata": {
        "colab": {
          "base_uri": "https://localhost:8080/"
        },
        "id": "ZEQtaKX3jSOU",
        "outputId": "ae32dda7-6922-4f0d-fb49-19bc43be49f7"
      },
      "execution_count": null,
      "outputs": [
        {
          "output_type": "stream",
          "name": "stdout",
          "text": [
            "enter amount5000\n",
            "enter period2\n",
            "1000.0\n",
            "10\n"
          ]
        }
      ]
    },
    {
      "cell_type": "code",
      "source": [
        "class Atm:\n",
        "  balance=5000\n",
        "  def loan(self):\n",
        "    print(Atm.balance)\n",
        "a1=Atm()\n",
        "a1.loan()\n",
        "\n",
        "class Kotak:\n",
        "  print(Atm.balance)\n",
        "k1=Kotak"
      ],
      "metadata": {
        "colab": {
          "base_uri": "https://localhost:8080/"
        },
        "id": "7Jrclfhal7QE",
        "outputId": "9c44b0de-b29e-4e44-c6fb-379a2ed9d05a"
      },
      "execution_count": null,
      "outputs": [
        {
          "output_type": "stream",
          "name": "stdout",
          "text": [
            "5000\n",
            "5000\n"
          ]
        }
      ]
    },
    {
      "cell_type": "code",
      "source": [
        "class Atm:\n",
        "  balance=5000\n",
        "  def loan(self):\n",
        "    r=1000\n",
        "    print(r)\n",
        "  def balance(self):\n",
        "   print(r)\n",
        "a1=Atm()\n",
        "a1.loan()\n",
        "a1.balance()"
      ],
      "metadata": {
        "colab": {
          "base_uri": "https://localhost:8080/"
        },
        "id": "b8Mn7BN2m42J",
        "outputId": "d00e24df-f759-4782-ae29-9e6a6dcfc1f3"
      },
      "execution_count": null,
      "outputs": [
        {
          "output_type": "stream",
          "name": "stdout",
          "text": [
            "1000\n",
            "10\n"
          ]
        }
      ]
    },
    {
      "cell_type": "code",
      "source": [
        "class Atm():\n",
        "  def loan(self):\n",
        "    r=1000\n",
        "    print(r)\n",
        "a1=Atm()"
      ],
      "metadata": {
        "id": "cthkwci1prcF"
      },
      "execution_count": null,
      "outputs": []
    },
    {
      "cell_type": "code",
      "source": [
        "def books():\n",
        "  book=[\"The Mind\"]\n",
        "  print(book)\n",
        "class Library():\n",
        "  def lending(self):\n",
        "    books()\n",
        "  def giving(self):\n",
        "    books()\n",
        "l1=Library()\n",
        "l1.lending()\n",
        "l1.giving()"
      ],
      "metadata": {
        "colab": {
          "base_uri": "https://localhost:8080/"
        },
        "id": "bwYBzPXgqTY_",
        "outputId": "257b4b18-66ce-4018-ef62-b44babfd1b4e"
      },
      "execution_count": null,
      "outputs": [
        {
          "output_type": "stream",
          "name": "stdout",
          "text": [
            "['The Mind']\n",
            "['The Mind']\n"
          ]
        }
      ]
    },
    {
      "cell_type": "code",
      "source": [
        "class Atm:\n",
        "  def withdraw(self,pin):\n",
        "    if pin==\"1234\":\n",
        "      user = int(input(\"Enter amount\"))\n",
        "      return(\"its granted\")\n",
        "    else:\n",
        "      print(\"wrong\")\n",
        "a1=Atm()\n",
        "pin=input(\"enter pin\")\n",
        "catcher=a1.withdraw(pin)\n",
        "print(catcher)"
      ],
      "metadata": {
        "colab": {
          "base_uri": "https://localhost:8080/"
        },
        "id": "eDZJ0WvTUUcu",
        "outputId": "90f1d9e7-043a-47dd-ce51-f3363a8e42d1"
      },
      "execution_count": null,
      "outputs": [
        {
          "output_type": "stream",
          "name": "stdout",
          "text": [
            "enter pin1234\n",
            "Enter amount500\n",
            "its granted\n"
          ]
        }
      ]
    },
    {
      "cell_type": "code",
      "source": [
        "class Atm:\n",
        "  def withdraw(self,pin):\n",
        "    if pin==\"1234\":\n",
        "      user = int(input(\"Enter amount\"))\n",
        "      # return(\"its granted\")\n",
        "    else:\n",
        "      print(\"wrong\")\n",
        "a1=Atm()\n",
        "pin=input(\"enter pin\")\n",
        "catcher=a1.withdraw(pin)\n",
        "print(catcher)"
      ],
      "metadata": {
        "id": "yz4nGHIzV_b_"
      },
      "execution_count": null,
      "outputs": []
    },
    {
      "cell_type": "code",
      "source": [
        "class Atm:\n",
        "  def withdraw(self,pin):\n",
        "    if \"1234\"==\"1234\":\n",
        "      user = int(input(\"Enter amount\"))\n",
        "      return(\"its granted\")\n",
        "    else:\n",
        "      print(\"wrong\")\n",
        "a1=Atm()\n",
        "pin=input(\"enter pin\")\n",
        "catcher=a1.withdraw(pin)\n",
        "print(catcher)"
      ],
      "metadata": {
        "id": "GekMoXp2WTNX"
      },
      "execution_count": null,
      "outputs": []
    },
    {
      "cell_type": "code",
      "source": [
        "class Atm:\n",
        "  def withdraw(self):\n",
        "    if \"1234\"==\"1234\":\n",
        "      user = int(input(\"Enter amount\"))\n",
        "      # return(\"its granted\")\n",
        "    else:\n",
        "      print(\"wrong\")\n",
        "a1=Atm()\n",
        "# pin=input(\"enter pin\")\n",
        "catcher=a1.withdraw()\n",
        "print(catcher)"
      ],
      "metadata": {
        "colab": {
          "base_uri": "https://localhost:8080/",
          "height": 363
        },
        "id": "ghwe7T6wWb9N",
        "outputId": "c279e0e5-2d23-4c0a-e0e1-398957591f7d"
      },
      "execution_count": null,
      "outputs": [
        {
          "output_type": "error",
          "ename": "KeyboardInterrupt",
          "evalue": "ignored",
          "traceback": [
            "\u001b[0;31m---------------------------------------------------------------------------\u001b[0m",
            "\u001b[0;31mKeyboardInterrupt\u001b[0m                         Traceback (most recent call last)",
            "\u001b[0;32m<ipython-input-5-9062cfba2d50>\u001b[0m in \u001b[0;36m<cell line: 10>\u001b[0;34m()\u001b[0m\n\u001b[1;32m      8\u001b[0m \u001b[0ma1\u001b[0m\u001b[0;34m=\u001b[0m\u001b[0mAtm\u001b[0m\u001b[0;34m(\u001b[0m\u001b[0;34m)\u001b[0m\u001b[0;34m\u001b[0m\u001b[0;34m\u001b[0m\u001b[0m\n\u001b[1;32m      9\u001b[0m \u001b[0;31m# pin=input(\"enter pin\")\u001b[0m\u001b[0;34m\u001b[0m\u001b[0;34m\u001b[0m\u001b[0m\n\u001b[0;32m---> 10\u001b[0;31m \u001b[0mcatcher\u001b[0m\u001b[0;34m=\u001b[0m\u001b[0ma1\u001b[0m\u001b[0;34m.\u001b[0m\u001b[0mwithdraw\u001b[0m\u001b[0;34m(\u001b[0m\u001b[0mpin\u001b[0m\u001b[0;34m)\u001b[0m\u001b[0;34m\u001b[0m\u001b[0;34m\u001b[0m\u001b[0m\n\u001b[0m\u001b[1;32m     11\u001b[0m \u001b[0mprint\u001b[0m\u001b[0;34m(\u001b[0m\u001b[0mcatcher\u001b[0m\u001b[0;34m)\u001b[0m\u001b[0;34m\u001b[0m\u001b[0;34m\u001b[0m\u001b[0m\n",
            "\u001b[0;32m<ipython-input-5-9062cfba2d50>\u001b[0m in \u001b[0;36mwithdraw\u001b[0;34m(self, pin)\u001b[0m\n\u001b[1;32m      2\u001b[0m   \u001b[0;32mdef\u001b[0m \u001b[0mwithdraw\u001b[0m\u001b[0;34m(\u001b[0m\u001b[0mself\u001b[0m\u001b[0;34m,\u001b[0m\u001b[0mpin\u001b[0m\u001b[0;34m)\u001b[0m\u001b[0;34m:\u001b[0m\u001b[0;34m\u001b[0m\u001b[0;34m\u001b[0m\u001b[0m\n\u001b[1;32m      3\u001b[0m     \u001b[0;32mif\u001b[0m \u001b[0;34m\"1234\"\u001b[0m\u001b[0;34m==\u001b[0m\u001b[0;34m\"1234\"\u001b[0m\u001b[0;34m:\u001b[0m\u001b[0;34m\u001b[0m\u001b[0;34m\u001b[0m\u001b[0m\n\u001b[0;32m----> 4\u001b[0;31m       \u001b[0muser\u001b[0m \u001b[0;34m=\u001b[0m \u001b[0mint\u001b[0m\u001b[0;34m(\u001b[0m\u001b[0minput\u001b[0m\u001b[0;34m(\u001b[0m\u001b[0;34m\"Enter amount\"\u001b[0m\u001b[0;34m)\u001b[0m\u001b[0;34m)\u001b[0m\u001b[0;34m\u001b[0m\u001b[0;34m\u001b[0m\u001b[0m\n\u001b[0m\u001b[1;32m      5\u001b[0m       \u001b[0;31m# return(\"its granted\")\u001b[0m\u001b[0;34m\u001b[0m\u001b[0;34m\u001b[0m\u001b[0m\n\u001b[1;32m      6\u001b[0m     \u001b[0;32melse\u001b[0m\u001b[0;34m:\u001b[0m\u001b[0;34m\u001b[0m\u001b[0;34m\u001b[0m\u001b[0m\n",
            "\u001b[0;32m/usr/local/lib/python3.10/dist-packages/ipykernel/kernelbase.py\u001b[0m in \u001b[0;36mraw_input\u001b[0;34m(self, prompt)\u001b[0m\n\u001b[1;32m    849\u001b[0m                 \u001b[0;34m\"raw_input was called, but this frontend does not support input requests.\"\u001b[0m\u001b[0;34m\u001b[0m\u001b[0;34m\u001b[0m\u001b[0m\n\u001b[1;32m    850\u001b[0m             )\n\u001b[0;32m--> 851\u001b[0;31m         return self._input_request(str(prompt),\n\u001b[0m\u001b[1;32m    852\u001b[0m             \u001b[0mself\u001b[0m\u001b[0;34m.\u001b[0m\u001b[0m_parent_ident\u001b[0m\u001b[0;34m,\u001b[0m\u001b[0;34m\u001b[0m\u001b[0;34m\u001b[0m\u001b[0m\n\u001b[1;32m    853\u001b[0m             \u001b[0mself\u001b[0m\u001b[0;34m.\u001b[0m\u001b[0m_parent_header\u001b[0m\u001b[0;34m,\u001b[0m\u001b[0;34m\u001b[0m\u001b[0;34m\u001b[0m\u001b[0m\n",
            "\u001b[0;32m/usr/local/lib/python3.10/dist-packages/ipykernel/kernelbase.py\u001b[0m in \u001b[0;36m_input_request\u001b[0;34m(self, prompt, ident, parent, password)\u001b[0m\n\u001b[1;32m    893\u001b[0m             \u001b[0;32mexcept\u001b[0m \u001b[0mKeyboardInterrupt\u001b[0m\u001b[0;34m:\u001b[0m\u001b[0;34m\u001b[0m\u001b[0;34m\u001b[0m\u001b[0m\n\u001b[1;32m    894\u001b[0m                 \u001b[0;31m# re-raise KeyboardInterrupt, to truncate traceback\u001b[0m\u001b[0;34m\u001b[0m\u001b[0;34m\u001b[0m\u001b[0m\n\u001b[0;32m--> 895\u001b[0;31m                 \u001b[0;32mraise\u001b[0m \u001b[0mKeyboardInterrupt\u001b[0m\u001b[0;34m(\u001b[0m\u001b[0;34m\"Interrupted by user\"\u001b[0m\u001b[0;34m)\u001b[0m \u001b[0;32mfrom\u001b[0m \u001b[0;32mNone\u001b[0m\u001b[0;34m\u001b[0m\u001b[0;34m\u001b[0m\u001b[0m\n\u001b[0m\u001b[1;32m    896\u001b[0m             \u001b[0;32mexcept\u001b[0m \u001b[0mException\u001b[0m \u001b[0;32mas\u001b[0m \u001b[0me\u001b[0m\u001b[0;34m:\u001b[0m\u001b[0;34m\u001b[0m\u001b[0;34m\u001b[0m\u001b[0m\n\u001b[1;32m    897\u001b[0m                 \u001b[0mself\u001b[0m\u001b[0;34m.\u001b[0m\u001b[0mlog\u001b[0m\u001b[0;34m.\u001b[0m\u001b[0mwarning\u001b[0m\u001b[0;34m(\u001b[0m\u001b[0;34m\"Invalid Message:\"\u001b[0m\u001b[0;34m,\u001b[0m \u001b[0mexc_info\u001b[0m\u001b[0;34m=\u001b[0m\u001b[0;32mTrue\u001b[0m\u001b[0;34m)\u001b[0m\u001b[0;34m\u001b[0m\u001b[0;34m\u001b[0m\u001b[0m\n",
            "\u001b[0;31mKeyboardInterrupt\u001b[0m: Interrupted by user"
          ]
        }
      ]
    }
  ]
}